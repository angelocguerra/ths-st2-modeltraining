{
 "cells": [
  {
   "cell_type": "code",
   "execution_count": 2,
   "id": "fc6915f3-a9c2-4e33-a3ed-c5570ab1c52f",
   "metadata": {},
   "outputs": [],
   "source": [
    "import os\n",
    "import yt_dlp\n",
    "\n",
    "def download_videos(file_path, download_dir):\n",
    "    if not os.path.exists(download_dir):\n",
    "        os.makedirs(download_dir)\n",
    "\n",
    "    with open(file_path, 'r') as file:\n",
    "        urls = [line.strip() for line in file.readlines() if line.strip()]\n",
    "\n",
    "    for url in urls:\n",
    "        try:\n",
    "            print(f\"Downloading: {url}\")\n",
    "            video_dir = os.path.join(download_dir, \"videos\")\n",
    "            os.makedirs(video_dir, exist_ok=True)\n",
    "\n",
    "            ydl_opts = {\n",
    "    'outtmpl': os.path.join(video_dir, '%(title)s.%(ext)s'),\n",
    "    'format': 'best[ext=mp4]'  # Ensures a single MP4 file without merging\n",
    "}\n",
    "\n",
    "            with yt_dlp.YoutubeDL(ydl_opts) as ydl:\n",
    "                ydl.download([url])\n",
    "\n",
    "            print(f\"Downloaded: {url} to {video_dir}\\n\")\n",
    "        except Exception as e:\n",
    "            print(f\"Failed to download {url}: {e}\")\n",
    "\n",
    "if __name__ == \"__main__\":\n",
    "    file_path = \"urls.txt\"\n",
    "    download_dir = \"downloads\"\n",
    "    download_videos(file_path, download_dir)\n"
   ]
  },
  {
   "cell_type": "code",
   "execution_count": null,
   "id": "20c4d54e-f013-4f2f-928e-094d7684cb0c",
   "metadata": {},
   "outputs": [],
   "source": []
  }
 ],
 "metadata": {
  "kernelspec": {
   "display_name": "Python 3 (ipykernel)",
   "language": "python",
   "name": "python3"
  },
  "language_info": {
   "codemirror_mode": {
    "name": "ipython",
    "version": 3
   },
   "file_extension": ".py",
   "mimetype": "text/x-python",
   "name": "python",
   "nbconvert_exporter": "python",
   "pygments_lexer": "ipython3",
   "version": "3.10.10"
  }
 },
 "nbformat": 4,
 "nbformat_minor": 5
}
