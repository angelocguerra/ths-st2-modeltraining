{
 "cells": [
  {
   "cell_type": "code",
   "id": "fc6915f3-a9c2-4e33-a3ed-c5570ab1c52f",
   "metadata": {
    "jupyter": {
     "is_executing": true
    },
    "ExecuteTime": {
     "start_time": "2025-02-07T17:22:06.676332Z"
    }
   },
   "source": [
    "import os\n",
    "import yt_dlp\n",
    "\n",
    "def download_videos(file_path, download_dir):\n",
    "    if not os.path.exists(download_dir):\n",
    "        os.makedirs(download_dir)\n",
    "\n",
    "    with open(file_path, 'r') as file:\n",
    "        urls = [line.strip() for line in file.readlines() if line.strip()]\n",
    "\n",
    "    for url in urls:\n",
    "        try:\n",
    "            print(f\"Downloading: {url}\")\n",
    "            video_dir = os.path.join(download_dir, \"videos\")\n",
    "            os.makedirs(video_dir, exist_ok=True)\n",
    "\n",
    "            ydl_opts = {\n",
    "\n",
    "                'format': 'bestvideo[height=720]',  # Best video + best audio (or best overall)\n",
    "                'merge_output_format': 'mp4',  # Merge if separate audio & video\n",
    "                'outtmpl': os.path.join(video_dir, '%(title)s.%(ext)s'),\n",
    "            }\n",
    "\n",
    "            with yt_dlp.YoutubeDL(ydl_opts) as ydl:\n",
    "                ydl.download([url])\n",
    "\n",
    "            print(f\"Downloaded: {url} to {video_dir}\\n\")\n",
    "        except Exception as e:\n",
    "            print(f\"Failed to download {url}: {e}\")\n",
    "\n",
    "if __name__ == \"__main__\":\n",
    "    file_path = \"urls.txt\"\n",
    "    download_dir = \"downloads\"\n",
    "    download_videos(file_path, download_dir)"
   ],
   "outputs": [
    {
     "name": "stdout",
     "output_type": "stream",
     "text": [
      "Downloading: https://youtu.be/8mGxVd_mvOY?si=lD7gYvqbPZ4tEqvi\n",
      "[youtube] Extracting URL: https://youtu.be/8mGxVd_mvOY?si=lD7gYvqbPZ4tEqvi\n",
      "[youtube] 8mGxVd_mvOY: Downloading webpage\n",
      "[youtube] 8mGxVd_mvOY: Downloading tv client config\n",
      "[youtube] 8mGxVd_mvOY: Downloading player 9c6dfc4a\n",
      "[youtube] 8mGxVd_mvOY: Downloading tv player API JSON\n",
      "[youtube] 8mGxVd_mvOY: Downloading ios player API JSON\n",
      "[youtube] 8mGxVd_mvOY: Downloading m3u8 information\n",
      "[info] 8mGxVd_mvOY: Downloading 1 format(s): 247\n",
      "[download] Destination: downloads/videos/Makati To Tagaytay & Back ｜MTB 119km Solo Bicycle Ride.webm\n",
      "[download] 100% of   92.25MiB in 00:00:06 at 14.41MiB/s    \n",
      "Downloaded: https://youtu.be/8mGxVd_mvOY?si=lD7gYvqbPZ4tEqvi to downloads/videos\n",
      "\n",
      "Downloading: https://youtu.be/3AgPUxbI4Fg?si=oL7pbZX0nA_Wsnze\n",
      "[youtube] Extracting URL: https://youtu.be/3AgPUxbI4Fg?si=oL7pbZX0nA_Wsnze\n",
      "[youtube] 3AgPUxbI4Fg: Downloading webpage\n",
      "[youtube] 3AgPUxbI4Fg: Downloading tv client config\n",
      "[youtube] 3AgPUxbI4Fg: Downloading player 9c6dfc4a\n",
      "[youtube] 3AgPUxbI4Fg: Downloading tv player API JSON\n",
      "[youtube] 3AgPUxbI4Fg: Downloading ios player API JSON\n"
     ]
    }
   ],
   "execution_count": null
  },
  {
   "cell_type": "code",
   "execution_count": null,
   "id": "20c4d54e-f013-4f2f-928e-094d7684cb0c",
   "metadata": {},
   "outputs": [],
   "source": []
  }
 ],
 "metadata": {
  "kernelspec": {
   "display_name": "Python 3 (ipykernel)",
   "language": "python",
   "name": "python3"
  },
  "language_info": {
   "codemirror_mode": {
    "name": "ipython",
    "version": 3
   },
   "file_extension": ".py",
   "mimetype": "text/x-python",
   "name": "python",
   "nbconvert_exporter": "python",
   "pygments_lexer": "ipython3",
   "version": "3.10.10"
  }
 },
 "nbformat": 4,
 "nbformat_minor": 5
}
